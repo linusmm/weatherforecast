{
 "cells": [
  {
   "cell_type": "code",
   "execution_count": 12,
   "id": "7ea1437b",
   "metadata": {},
   "outputs": [],
   "source": [
    "%load_ext autoreload\n",
    "%autoreload 2"
   ]
  },
  {
   "cell_type": "code",
   "execution_count": 39,
   "id": "59e18e00-5476-4d60-890c-da854faa5da8",
   "metadata": {},
   "outputs": [],
   "source": [
    "import pandas as pd\n",
    "import numpy as np\n",
    "import requests\n",
    "import datetime as dt\n",
    "\n",
    "import apicalls\n",
    "import visuals"
   ]
  },
  {
   "cell_type": "code",
   "execution_count": 67,
   "id": "4015be70",
   "metadata": {},
   "outputs": [],
   "source": [
    "data = apicalls.get_data()"
   ]
  },
  {
   "cell_type": "code",
   "execution_count": 15,
   "id": "3277475d",
   "metadata": {},
   "outputs": [
    {
     "data": {
      "text/plain": [
       "dict_keys(['latitude', 'longitude', 'generationtime_ms', 'utc_offset_seconds', 'timezone', 'timezone_abbreviation', 'elevation', 'daily_units', 'daily'])"
      ]
     },
     "execution_count": 15,
     "metadata": {},
     "output_type": "execute_result"
    }
   ],
   "source": [
    "data.keys()"
   ]
  },
  {
   "cell_type": "code",
   "execution_count": 95,
   "id": "3811e5a8",
   "metadata": {},
   "outputs": [
    {
     "data": {
      "text/plain": [
       "['2023-11-04', '2023-11-05', '2023-11-06', '2023-11-07']"
      ]
     },
     "execution_count": 95,
     "metadata": {},
     "output_type": "execute_result"
    }
   ],
   "source": [
    "data[\"daily\"][\"time\"]"
   ]
  },
  {
   "cell_type": "code",
   "execution_count": 104,
   "id": "d41a7203",
   "metadata": {},
   "outputs": [
    {
     "data": {
      "text/plain": [
       "'Sunday'"
      ]
     },
     "execution_count": 104,
     "metadata": {},
     "output_type": "execute_result"
    }
   ],
   "source": [
    "visuals.get_weekday(data['daily']['time'][1])"
   ]
  },
  {
   "cell_type": "code",
   "execution_count": 107,
   "id": "e46b326f",
   "metadata": {},
   "outputs": [
    {
     "name": "stdout",
     "output_type": "stream",
     "text": [
      "\n",
      "    |Today|Sunday|Monday|Tuesday|\n",
      "    |--|--|--|--|\n",
      "    |good|good|nogood|good|\n",
      "    \n"
     ]
    }
   ],
   "source": [
    "print(visuals.create_MD_weather_table(data))\n"
   ]
  },
  {
   "cell_type": "code",
   "execution_count": 35,
   "id": "6d56aab5-e906-4526-b38f-a578e88864be",
   "metadata": {},
   "outputs": [
    {
     "name": "stdout",
     "output_type": "stream",
     "text": [
      "latitude\n",
      "longitude\n",
      "generationtime_ms\n",
      "utc_offset_seconds\n",
      "timezone\n",
      "timezone_abbreviation\n",
      "elevation\n",
      "current_units\n",
      "current\n",
      "hourly_units\n",
      "hourly\n",
      "daily_units\n",
      "daily\n"
     ]
    }
   ],
   "source": [
    "for k in all_info.keys():\n",
    "    print(k)"
   ]
  },
  {
   "cell_type": "code",
   "execution_count": 39,
   "id": "71239061-fe1a-488c-9516-8ffebcded087",
   "metadata": {},
   "outputs": [
    {
     "data": {
      "text/plain": [
       "dict_keys(['time', 'interval', 'temperature_2m', 'relativehumidity_2m', 'apparent_temperature', 'is_day', 'precipitation', 'rain', 'showers', 'snowfall', 'weathercode', 'cloudcover', 'windspeed_10m', 'winddirection_10m', 'windgusts_10m'])"
      ]
     },
     "execution_count": 39,
     "metadata": {},
     "output_type": "execute_result"
    }
   ],
   "source": [
    "all_info[\"current\"].keys()#[\"temperature_2m\"]"
   ]
  },
  {
   "cell_type": "code",
   "execution_count": 40,
   "id": "4ae2ad1c",
   "metadata": {},
   "outputs": [
    {
     "data": {
      "text/plain": [
       "'2023-10-25T16:45'"
      ]
     },
     "execution_count": 40,
     "metadata": {},
     "output_type": "execute_result"
    }
   ],
   "source": [
    "all_info[\"current\"][\"time\"]"
   ]
  },
  {
   "cell_type": "code",
   "execution_count": 37,
   "id": "2b32a274-3088-4e2a-a724-93c10784d830",
   "metadata": {},
   "outputs": [
    {
     "data": {
      "text/plain": [
       "dict_keys(['time', 'weathercode', 'temperature_2m_max', 'temperature_2m_min', 'sunrise', 'sunset', 'uv_index_max', 'precipitation_sum', 'rain_sum', 'showers_sum', 'snowfall_sum', 'precipitation_hours', 'windspeed_10m_max', 'windgusts_10m_max', 'winddirection_10m_dominant'])"
      ]
     },
     "execution_count": 37,
     "metadata": {},
     "output_type": "execute_result"
    }
   ],
   "source": [
    "all_info[\"daily\"].keys()"
   ]
  },
  {
   "cell_type": "code",
   "execution_count": 38,
   "id": "b5185986-5941-4882-87ac-6f85732be00f",
   "metadata": {},
   "outputs": [
    {
     "data": {
      "text/plain": [
       "['2023-10-25T00:00',\n",
       " '2023-10-25T01:00',\n",
       " '2023-10-25T02:00',\n",
       " '2023-10-25T03:00',\n",
       " '2023-10-25T04:00',\n",
       " '2023-10-25T05:00',\n",
       " '2023-10-25T06:00',\n",
       " '2023-10-25T07:00',\n",
       " '2023-10-25T08:00',\n",
       " '2023-10-25T09:00',\n",
       " '2023-10-25T10:00',\n",
       " '2023-10-25T11:00',\n",
       " '2023-10-25T12:00',\n",
       " '2023-10-25T13:00',\n",
       " '2023-10-25T14:00',\n",
       " '2023-10-25T15:00',\n",
       " '2023-10-25T16:00',\n",
       " '2023-10-25T17:00',\n",
       " '2023-10-25T18:00',\n",
       " '2023-10-25T19:00',\n",
       " '2023-10-25T20:00',\n",
       " '2023-10-25T21:00',\n",
       " '2023-10-25T22:00',\n",
       " '2023-10-25T23:00',\n",
       " '2023-10-26T00:00',\n",
       " '2023-10-26T01:00',\n",
       " '2023-10-26T02:00',\n",
       " '2023-10-26T03:00',\n",
       " '2023-10-26T04:00',\n",
       " '2023-10-26T05:00',\n",
       " '2023-10-26T06:00',\n",
       " '2023-10-26T07:00',\n",
       " '2023-10-26T08:00',\n",
       " '2023-10-26T09:00',\n",
       " '2023-10-26T10:00',\n",
       " '2023-10-26T11:00',\n",
       " '2023-10-26T12:00',\n",
       " '2023-10-26T13:00',\n",
       " '2023-10-26T14:00',\n",
       " '2023-10-26T15:00',\n",
       " '2023-10-26T16:00',\n",
       " '2023-10-26T17:00',\n",
       " '2023-10-26T18:00',\n",
       " '2023-10-26T19:00',\n",
       " '2023-10-26T20:00',\n",
       " '2023-10-26T21:00',\n",
       " '2023-10-26T22:00',\n",
       " '2023-10-26T23:00',\n",
       " '2023-10-27T00:00',\n",
       " '2023-10-27T01:00',\n",
       " '2023-10-27T02:00',\n",
       " '2023-10-27T03:00',\n",
       " '2023-10-27T04:00',\n",
       " '2023-10-27T05:00',\n",
       " '2023-10-27T06:00',\n",
       " '2023-10-27T07:00',\n",
       " '2023-10-27T08:00',\n",
       " '2023-10-27T09:00',\n",
       " '2023-10-27T10:00',\n",
       " '2023-10-27T11:00',\n",
       " '2023-10-27T12:00',\n",
       " '2023-10-27T13:00',\n",
       " '2023-10-27T14:00',\n",
       " '2023-10-27T15:00',\n",
       " '2023-10-27T16:00',\n",
       " '2023-10-27T17:00',\n",
       " '2023-10-27T18:00',\n",
       " '2023-10-27T19:00',\n",
       " '2023-10-27T20:00',\n",
       " '2023-10-27T21:00',\n",
       " '2023-10-27T22:00',\n",
       " '2023-10-27T23:00',\n",
       " '2023-10-28T00:00',\n",
       " '2023-10-28T01:00',\n",
       " '2023-10-28T02:00',\n",
       " '2023-10-28T03:00',\n",
       " '2023-10-28T04:00',\n",
       " '2023-10-28T05:00',\n",
       " '2023-10-28T06:00',\n",
       " '2023-10-28T07:00',\n",
       " '2023-10-28T08:00',\n",
       " '2023-10-28T09:00',\n",
       " '2023-10-28T10:00',\n",
       " '2023-10-28T11:00',\n",
       " '2023-10-28T12:00',\n",
       " '2023-10-28T13:00',\n",
       " '2023-10-28T14:00',\n",
       " '2023-10-28T15:00',\n",
       " '2023-10-28T16:00',\n",
       " '2023-10-28T17:00',\n",
       " '2023-10-28T18:00',\n",
       " '2023-10-28T19:00',\n",
       " '2023-10-28T20:00',\n",
       " '2023-10-28T21:00',\n",
       " '2023-10-28T22:00',\n",
       " '2023-10-28T23:00',\n",
       " '2023-10-29T00:00',\n",
       " '2023-10-29T01:00',\n",
       " '2023-10-29T02:00',\n",
       " '2023-10-29T03:00',\n",
       " '2023-10-29T04:00',\n",
       " '2023-10-29T05:00',\n",
       " '2023-10-29T06:00',\n",
       " '2023-10-29T07:00',\n",
       " '2023-10-29T08:00',\n",
       " '2023-10-29T09:00',\n",
       " '2023-10-29T10:00',\n",
       " '2023-10-29T11:00',\n",
       " '2023-10-29T12:00',\n",
       " '2023-10-29T13:00',\n",
       " '2023-10-29T14:00',\n",
       " '2023-10-29T15:00',\n",
       " '2023-10-29T16:00',\n",
       " '2023-10-29T17:00',\n",
       " '2023-10-29T18:00',\n",
       " '2023-10-29T19:00',\n",
       " '2023-10-29T20:00',\n",
       " '2023-10-29T21:00',\n",
       " '2023-10-29T22:00',\n",
       " '2023-10-29T23:00',\n",
       " '2023-10-30T00:00',\n",
       " '2023-10-30T01:00',\n",
       " '2023-10-30T02:00',\n",
       " '2023-10-30T03:00',\n",
       " '2023-10-30T04:00',\n",
       " '2023-10-30T05:00',\n",
       " '2023-10-30T06:00',\n",
       " '2023-10-30T07:00',\n",
       " '2023-10-30T08:00',\n",
       " '2023-10-30T09:00',\n",
       " '2023-10-30T10:00',\n",
       " '2023-10-30T11:00',\n",
       " '2023-10-30T12:00',\n",
       " '2023-10-30T13:00',\n",
       " '2023-10-30T14:00',\n",
       " '2023-10-30T15:00',\n",
       " '2023-10-30T16:00',\n",
       " '2023-10-30T17:00',\n",
       " '2023-10-30T18:00',\n",
       " '2023-10-30T19:00',\n",
       " '2023-10-30T20:00',\n",
       " '2023-10-30T21:00',\n",
       " '2023-10-30T22:00',\n",
       " '2023-10-30T23:00',\n",
       " '2023-10-31T00:00',\n",
       " '2023-10-31T01:00',\n",
       " '2023-10-31T02:00',\n",
       " '2023-10-31T03:00',\n",
       " '2023-10-31T04:00',\n",
       " '2023-10-31T05:00',\n",
       " '2023-10-31T06:00',\n",
       " '2023-10-31T07:00',\n",
       " '2023-10-31T08:00',\n",
       " '2023-10-31T09:00',\n",
       " '2023-10-31T10:00',\n",
       " '2023-10-31T11:00',\n",
       " '2023-10-31T12:00',\n",
       " '2023-10-31T13:00',\n",
       " '2023-10-31T14:00',\n",
       " '2023-10-31T15:00',\n",
       " '2023-10-31T16:00',\n",
       " '2023-10-31T17:00',\n",
       " '2023-10-31T18:00',\n",
       " '2023-10-31T19:00',\n",
       " '2023-10-31T20:00',\n",
       " '2023-10-31T21:00',\n",
       " '2023-10-31T22:00',\n",
       " '2023-10-31T23:00']"
      ]
     },
     "execution_count": 38,
     "metadata": {},
     "output_type": "execute_result"
    }
   ],
   "source": [
    "(all_info[\"hourly\"][\"time\"])"
   ]
  },
  {
   "cell_type": "markdown",
   "id": "65b477d4-6dbf-46a2-96dd-31961349f96d",
   "metadata": {},
   "source": [
    "|Monday|Tuesday|\n",
    "|--|--|\n",
    "| x | x |\n"
   ]
  },
  {
   "cell_type": "markdown",
   "id": "1fdb1d61",
   "metadata": {},
   "source": []
  },
  {
   "cell_type": "code",
   "execution_count": 19,
   "id": "5310a078-aeeb-4181-9de8-c4054e84c679",
   "metadata": {},
   "outputs": [
    {
     "ename": "SyntaxError",
     "evalue": "incomplete input (2516601920.py, line 1)",
     "output_type": "error",
     "traceback": [
      "\u001b[0;36m  Cell \u001b[0;32mIn[19], line 1\u001b[0;36m\u001b[0m\n\u001b[0;31m    type(visuals.get_sky(\"sun\")\u001b[0m\n\u001b[0m                               ^\u001b[0m\n\u001b[0;31mSyntaxError\u001b[0m\u001b[0;31m:\u001b[0m incomplete input\n"
     ]
    }
   ],
   "source": [
    "visuals.get_sky(\"sun\")"
   ]
  },
  {
   "cell_type": "code",
   "execution_count": 50,
   "id": "f1d6cf57-0183-4d7e-8a26-55c4c8705c7d",
   "metadata": {},
   "outputs": [],
   "source": [
    "zeit = dt.datetime.strptime(data['daily']['sunset'][0], '%Y-%m-%dT%H:%M') + dt.timedelta(hours=1)"
   ]
  },
  {
   "cell_type": "code",
   "execution_count": 26,
   "id": "2c2aab2f-4b92-4577-a880-9529c89025e1",
   "metadata": {},
   "outputs": [],
   "source": [
    "import json\n",
    "with open('data.json', 'w', encoding='utf-8') as f:\n",
    "    json.dump(data, f, ensure_ascii=False, indent=4)"
   ]
  },
  {
   "cell_type": "code",
   "execution_count": 59,
   "id": "6a79dd3b",
   "metadata": {},
   "outputs": [
    {
     "name": "stdout",
     "output_type": "stream",
     "text": [
      "17:21\n"
     ]
    }
   ],
   "source": [
    "print(zeit.strftime('%H:%M'))"
   ]
  },
  {
   "cell_type": "code",
   "execution_count": 68,
   "id": "8acad506",
   "metadata": {},
   "outputs": [
    {
     "data": {
      "text/plain": [
       "{'time': ['2023-11-14', '2023-11-15', '2023-11-16', '2023-11-17'],\n",
       " 'weathercode': [3, 3, 53, 3],\n",
       " 'temperature_2m_max': [23.5, 18.6, 14.6, 14.4],\n",
       " 'temperature_2m_min': [15.0, 9.7, 7.9, 8.0],\n",
       " 'sunrise': ['2023-11-14T06:36',\n",
       "  '2023-11-15T06:38',\n",
       "  '2023-11-16T06:39',\n",
       "  '2023-11-17T06:40'],\n",
       " 'sunset': ['2023-11-14T16:20',\n",
       "  '2023-11-15T16:19',\n",
       "  '2023-11-16T16:18',\n",
       "  '2023-11-17T16:18'],\n",
       " 'precipitation_sum': [0.0, 0.0, 1.1, 0.0],\n",
       " 'showers_sum': [0.0, 0.0, 0.0, 0.0],\n",
       " 'snowfall_sum': [0.0, 0.0, 0.0, 0.0],\n",
       " 'precipitation_hours': [0.0, 0.0, 4.0, 0.0],\n",
       " 'windspeed_10m_max': [18.2, 17.9, 8.4, 26.2],\n",
       " 'winddirection_10m_dominant': [282, 310, 271, 299]}"
      ]
     },
     "execution_count": 68,
     "metadata": {},
     "output_type": "execute_result"
    }
   ],
   "source": [
    "data['daily']"
   ]
  },
  {
   "cell_type": "code",
   "execution_count": null,
   "id": "09ecbe36",
   "metadata": {},
   "outputs": [],
   "source": []
  }
 ],
 "metadata": {
  "kernelspec": {
   "display_name": "Python 3 (ipykernel)",
   "language": "python",
   "name": "python3"
  },
  "language_info": {
   "codemirror_mode": {
    "name": "ipython",
    "version": 3
   },
   "file_extension": ".py",
   "mimetype": "text/x-python",
   "name": "python",
   "nbconvert_exporter": "python",
   "pygments_lexer": "ipython3",
   "version": "3.11.5"
  }
 },
 "nbformat": 4,
 "nbformat_minor": 5
}
